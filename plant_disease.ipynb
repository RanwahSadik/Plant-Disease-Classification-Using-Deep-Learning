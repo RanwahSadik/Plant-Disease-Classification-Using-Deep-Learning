{
 "cells": [
  {
   "cell_type": "code",
   "execution_count": 1,
   "id": "0b47881f-a83c-4b02-ba71-d780537c834a",
   "metadata": {},
   "outputs": [],
   "source": [
    "import tensorflow as tf\n",
    "from tensorflow.keras import models, layers\n",
    "import numpy as np \n",
    "import tensorflow as tf \n",
    "from tensorflow.keras.preprocessing.image import ImageDataGenerator\n",
    "import os \n",
    "os.environ['KMP_DUPLICATE_LIB_OK']='True'"
   ]
  },
  {
   "cell_type": "code",
   "execution_count": 2,
   "id": "556c3d95-3de4-47cc-972e-a56485a8a812",
   "metadata": {},
   "outputs": [
    {
     "name": "stdout",
     "output_type": "stream",
     "text": [
      "Found 4333 images belonging to 4 classes.\n",
      "Found 1082 images belonging to 4 classes.\n",
      "Found 1212 images belonging to 4 classes.\n"
     ]
    }
   ],
   "source": [
    "training_generator = ImageDataGenerator(\n",
    "    rescale = 1/255,\n",
    "    horizontal_flip = True,\n",
    "    validation_split = 0.2  # 20% of the training data will be used for validation\n",
    ")\n",
    "\n",
    "training_set = training_generator.flow_from_directory(\n",
    "    'plant_disease/training_data',\n",
    "    target_size = (256, 256),\n",
    "    batch_size = 32,\n",
    "    class_mode = 'categorical',\n",
    "    subset = 'training'  # Use the subset 'training' for training data\n",
    ")\n",
    "\n",
    "validation_set = training_generator.flow_from_directory(\n",
    "    'plant_disease/training_data',\n",
    "    target_size = (256, 256),\n",
    "    batch_size = 32,\n",
    "    class_mode = 'categorical',\n",
    "    subset = 'validation'  # Use the subset 'validation' for validation data\n",
    ")\n",
    "\n",
    "test_generator = ImageDataGenerator(rescale = 1./255)\n",
    "test_set = test_generator.flow_from_directory(\n",
    "    'plant_disease/test_data',\n",
    "    target_size = (256, 256),\n",
    "    batch_size = 32,\n",
    "    class_mode = 'categorical'\n",
    ")\n"
   ]
  },
  {
   "cell_type": "code",
   "execution_count": 3,
   "id": "f1b99cd4-1b04-452b-a3a3-a6b52d2849ae",
   "metadata": {},
   "outputs": [],
   "source": [
    "BATCH_SIZE = 32\n",
    "IMAGE_SIZE = 256\n",
    "CHANNELS = 3\n",
    "EPOCHS = 12\n",
    "\n",
    "input_shape = (IMAGE_SIZE, IMAGE_SIZE, CHANNELS)\n",
    "n_classes = 4"
   ]
  },
  {
   "cell_type": "code",
   "execution_count": 4,
   "id": "703b648d-1e07-4c45-bc90-df66c387dab3",
   "metadata": {},
   "outputs": [],
   "source": [
    "from tensorflow.keras import layers, models\n",
    "\n",
    "model = models.Sequential([\n",
    "    layers.Conv2D(32, kernel_size=(3,3), activation='relu', input_shape=input_shape),\n",
    "    layers.MaxPooling2D((2, 2)),\n",
    "    layers.Conv2D(64, kernel_size=(3,3), activation='relu'),\n",
    "    layers.MaxPooling2D((2, 2)),\n",
    "    layers.Conv2D(64, kernel_size=(3,3), activation='relu'),\n",
    "    layers.MaxPooling2D((2, 2)),\n",
    "    layers.Conv2D(64, (3, 3), activation='relu'),\n",
    "    layers.MaxPooling2D((2, 2)),\n",
    "    layers.Conv2D(64, (3, 3), activation='relu'),\n",
    "    layers.MaxPooling2D((2, 2)),\n",
    "    layers.Conv2D(64, (3, 3), activation='relu'),\n",
    "    layers.MaxPooling2D((2, 2)),\n",
    "    layers.Flatten(),\n",
    "    layers.Dense(64, activation='relu'),\n",
    "    layers.Dropout(0.5),  # Add a dropout layer with a dropout rate of 0.5 (50%)\n",
    "    layers.Dense(n_classes, activation='softmax'),\n",
    "])\n"
   ]
  },
  {
   "cell_type": "code",
   "execution_count": 14,
   "id": "4e641d39-92b0-43cb-82ac-9cfd29480332",
   "metadata": {},
   "outputs": [
    {
     "name": "stdout",
     "output_type": "stream",
     "text": [
      "Model: \"sequential\"\n",
      "_________________________________________________________________\n",
      " Layer (type)                Output Shape              Param #   \n",
      "=================================================================\n",
      " conv2d (Conv2D)             (None, 254, 254, 32)      896       \n",
      "                                                                 \n",
      " max_pooling2d (MaxPooling2D  (None, 127, 127, 32)     0         \n",
      " )                                                               \n",
      "                                                                 \n",
      " conv2d_1 (Conv2D)           (None, 125, 125, 64)      18496     \n",
      "                                                                 \n",
      " max_pooling2d_1 (MaxPooling  (None, 62, 62, 64)       0         \n",
      " 2D)                                                             \n",
      "                                                                 \n",
      " conv2d_2 (Conv2D)           (None, 60, 60, 64)        36928     \n",
      "                                                                 \n",
      " max_pooling2d_2 (MaxPooling  (None, 30, 30, 64)       0         \n",
      " 2D)                                                             \n",
      "                                                                 \n",
      " conv2d_3 (Conv2D)           (None, 28, 28, 64)        36928     \n",
      "                                                                 \n",
      " max_pooling2d_3 (MaxPooling  (None, 14, 14, 64)       0         \n",
      " 2D)                                                             \n",
      "                                                                 \n",
      " conv2d_4 (Conv2D)           (None, 12, 12, 64)        36928     \n",
      "                                                                 \n",
      " max_pooling2d_4 (MaxPooling  (None, 6, 6, 64)         0         \n",
      " 2D)                                                             \n",
      "                                                                 \n",
      " conv2d_5 (Conv2D)           (None, 4, 4, 64)          36928     \n",
      "                                                                 \n",
      " max_pooling2d_5 (MaxPooling  (None, 2, 2, 64)         0         \n",
      " 2D)                                                             \n",
      "                                                                 \n",
      " flatten (Flatten)           (None, 256)               0         \n",
      "                                                                 \n",
      " dense (Dense)               (None, 64)                16448     \n",
      "                                                                 \n",
      " dropout (Dropout)           (None, 64)                0         \n",
      "                                                                 \n",
      " dense_1 (Dense)             (None, 4)                 260       \n",
      "                                                                 \n",
      "=================================================================\n",
      "Total params: 183,812\n",
      "Trainable params: 183,812\n",
      "Non-trainable params: 0\n",
      "_________________________________________________________________\n"
     ]
    }
   ],
   "source": [
    "model.summary()"
   ]
  },
  {
   "cell_type": "code",
   "execution_count": 5,
   "id": "36a7f024-c77f-456f-9e50-ff18f2b80604",
   "metadata": {},
   "outputs": [],
   "source": [
    "model.build(input_shape=input_shape)"
   ]
  },
  {
   "cell_type": "code",
   "execution_count": 6,
   "id": "31b0ddfe-ea81-4283-92b3-6566e769d23c",
   "metadata": {},
   "outputs": [],
   "source": [
    "model.compile(optimizer='adam', loss='categorical_crossentropy', metrics=['accuracy'])\n"
   ]
  },
  {
   "cell_type": "code",
   "execution_count": 7,
   "id": "9c9b0fad-7b8c-43e8-9898-932f9aec32b0",
   "metadata": {},
   "outputs": [
    {
     "name": "stdout",
     "output_type": "stream",
     "text": [
      "Epoch 1/12\n",
      "136/136 [==============================] - 191s 1s/step - loss: 1.1182 - accuracy: 0.5112 - val_loss: 0.7113 - val_accuracy: 0.7218\n",
      "Epoch 2/12\n",
      "136/136 [==============================] - 160s 1s/step - loss: 0.6066 - accuracy: 0.7904 - val_loss: 0.5528 - val_accuracy: 0.7902\n",
      "Epoch 3/12\n",
      "136/136 [==============================] - 151s 1s/step - loss: 0.4680 - accuracy: 0.8294 - val_loss: 0.3954 - val_accuracy: 0.8346\n",
      "Epoch 4/12\n",
      "136/136 [==============================] - 159s 1s/step - loss: 0.3932 - accuracy: 0.8539 - val_loss: 0.3191 - val_accuracy: 0.8697\n",
      "Epoch 5/12\n",
      "136/136 [==============================] - 151s 1s/step - loss: 0.3575 - accuracy: 0.8726 - val_loss: 0.3373 - val_accuracy: 0.8688\n",
      "Epoch 6/12\n",
      "136/136 [==============================] - 168s 1s/step - loss: 0.3224 - accuracy: 0.8821 - val_loss: 0.2542 - val_accuracy: 0.8974\n",
      "Epoch 7/12\n",
      "136/136 [==============================] - 163s 1s/step - loss: 0.2886 - accuracy: 0.9017 - val_loss: 0.2329 - val_accuracy: 0.9131\n",
      "Epoch 8/12\n",
      "136/136 [==============================] - 202s 1s/step - loss: 0.2755 - accuracy: 0.8982 - val_loss: 0.2063 - val_accuracy: 0.9150\n",
      "Epoch 9/12\n",
      "136/136 [==============================] - 158s 1s/step - loss: 0.3714 - accuracy: 0.8666 - val_loss: 0.2686 - val_accuracy: 0.9076\n",
      "Epoch 10/12\n",
      "136/136 [==============================] - 151s 1s/step - loss: 0.2207 - accuracy: 0.9227 - val_loss: 0.2302 - val_accuracy: 0.9168\n",
      "Epoch 11/12\n",
      "136/136 [==============================] - 148s 1s/step - loss: 0.1916 - accuracy: 0.9361 - val_loss: 0.1539 - val_accuracy: 0.9473\n",
      "Epoch 12/12\n",
      "136/136 [==============================] - 157s 1s/step - loss: 0.2226 - accuracy: 0.9218 - val_loss: 0.1639 - val_accuracy: 0.9279\n"
     ]
    }
   ],
   "source": [
    "history=model.fit(\n",
    "    training_set,\n",
    "    steps_per_epoch=len(training_set),\n",
    "    epochs=EPOCHS,\n",
    "    validation_data=validation_set,\n",
    "    validation_steps=len(validation_set)\n",
    ")"
   ]
  },
  {
   "cell_type": "code",
   "execution_count": 8,
   "id": "1ca80d33-037d-4fda-8f69-9c9f620c372d",
   "metadata": {},
   "outputs": [
    {
     "name": "stdout",
     "output_type": "stream",
     "text": [
      "38/38 [==============================] - 25s 656ms/step - loss: 0.2112 - accuracy: 0.9076\n"
     ]
    }
   ],
   "source": [
    "acc = model.evaluate(test_set)"
   ]
  },
  {
   "cell_type": "code",
   "execution_count": 9,
   "id": "18d545e2-f22a-41ea-97b5-bf85f045af62",
   "metadata": {},
   "outputs": [
    {
     "name": "stdout",
     "output_type": "stream",
     "text": [
      "38/38 [==============================] - 11s 289ms/step - loss: 0.2112 - accuracy: 0.9076\n",
      "Test Loss: 0.21121583878993988\n",
      "Test Accuracy: 0.9075907468795776\n"
     ]
    }
   ],
   "source": [
    "test_loss, test_accuracy = model.evaluate(test_set, steps=len(test_set))\n",
    "print(\"Test Loss:\", test_loss)\n",
    "print(\"Test Accuracy:\", test_accuracy)"
   ]
  },
  {
   "cell_type": "code",
   "execution_count": 10,
   "id": "9c1d898f-7b9e-473b-a6c1-70906d07f31c",
   "metadata": {},
   "outputs": [
    {
     "name": "stdout",
     "output_type": "stream",
     "text": [
      "136/136 [==============================] - 50s 365ms/step - loss: 0.1131 - accuracy: 0.9568\n"
     ]
    },
    {
     "data": {
      "text/plain": [
       "[0.11313536018133163, 0.956842839717865]"
      ]
     },
     "execution_count": 10,
     "metadata": {},
     "output_type": "execute_result"
    }
   ],
   "source": [
    " model.evaluate(training_set)"
   ]
  },
  {
   "cell_type": "code",
   "execution_count": 11,
   "id": "9aeabab2-fb6e-4d7b-a931-d3bb9580bc77",
   "metadata": {},
   "outputs": [],
   "source": [
    "import matplotlib.pyplot as plt "
   ]
  },
  {
   "cell_type": "code",
   "execution_count": 12,
   "id": "802178ce-2756-4ef2-91ee-2c866fff2807",
   "metadata": {},
   "outputs": [
    {
     "data": {
      "image/png": "[encoded data removed]",
      "text/plain": [
       "<Figure size 640x480 with 1 Axes>"
      ]
     },
     "metadata": {},
     "output_type": "display_data"
    },
    {
     "data": {
      "image/png": "[encoded data removed]",
      "text/plain": [
       "<Figure size 640x480 with 1 Axes>"
      ]
     },
     "metadata": {},
     "output_type": "display_data"
    }
   ],
   "source": [
    "accuracy =  history.history['accuracy']\n",
    "val_accuracy =  history.history['val_accuracy']\n",
    "loss =  history.history['loss']\n",
    "val_loss =  history.history['val_loss']\n",
    "epochs = range(len(accuracy))\n",
    "\n",
    "plt.plot(epochs, accuracy, 'bo', label='Training accuracy')\n",
    "plt.plot(epochs, val_accuracy, 'b', label='Validation accuracy')\n",
    "plt.title('Training and validation accuracy')\n",
    "plt.legend()\n",
    "plt.figure()\n",
    "\n",
    "plt.plot(epochs, loss, 'bo', label='Training loss')\n",
    "plt.plot(epochs, val_loss, 'b', label='Validation loss')\n",
    "plt.title('Training and validation loss')\n",
    "plt.legend()\n",
    "plt.show()"
   ]
  }
 ],
 "metadata": {
  "kernelspec": {
   "display_name": "Python 3 (ipykernel)",
   "language": "python",
   "name": "python3"
  },
  "language_info": {
   "codemirror_mode": {
    "name": "ipython",
    "version": 3
   },
   "file_extension": ".py",
   "mimetype": "text/x-python",
   "name": "python",
   "nbconvert_exporter": "python",
   "pygments_lexer": "ipython3",
   "version": "3.10.13"
  }
 },
 "nbformat": 4,
 "nbformat_minor": 5
}
